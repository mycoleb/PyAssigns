{
 "cells": [
  {
   "cell_type": "markdown",
   "metadata": {},
   "source": [
    "## Assignment 6 - Inferences"
   ]
  },
  {
   "cell_type": "markdown",
   "metadata": {},
   "source": [
    "### Inferences Demonstration"
   ]
  },
  {
   "cell_type": "markdown",
   "metadata": {},
   "source": [
    "Create functions to demonstrate the following when it receives two premises:   \n",
    "1. Modus Ponens\n",
    "2. Modus Tollens\n",
    "3. Hypothelical Syllogism\n",
    "4. Disjunctive Syllogism\n",
    "5. Addition\n",
    "6. Resolution\n",
    "\n",
    "Create functions to demonstrate the following when it recieves one premise:    \n",
    "1. Simplification\n",
    "\n",
    "Boilerplate code and comments have been left in here to get you started and give you an idea of how to fill out the rest of these.   \n",
    "The following output is the format expected. This is for Modus Ponens:    \n",
    "\n",
    "Modus Ponens: If p implies q, and p is true, then q is true.    \n",
    "Premise 1: Implies(p, q)    \n",
    "Premise 2 (p is true): p    \n",
    "Conclusion (q is true): q    "
   ]
  },
  {
   "cell_type": "code",
   "execution_count": 2,
   "metadata": {},
   "outputs": [
    {
     "name": "stdout",
     "output_type": "stream",
     "text": [
      "Modus Ponens: If p implies q, and p is true, then q is true.\n",
      "Premise 1: Implies(p, q)\n",
      "Premise 2 (p is true): p\n",
      "Conclusion (q is true): q\n",
      "\n"
     ]
    }
   ],
   "source": [
    "from sympy.logic.boolalg import Or, Not, And, Implies\n",
    "from sympy.abc import p, q, r\n",
    "\n",
    "def modus_ponens(premise1, premise2):\n",
    "    \"\"\"Modus Ponens: If p implies q, and p is true, then q is true.\"\"\"\n",
    "    if isinstance(premise1, Implies) and premise1.lhs == premise2 and premise2:\n",
    "        return premise1.rhs\n",
    "    else:\n",
    "        return None\n",
    "\n",
    "def modus_tollens(premise1, premise2):\n",
    "    \"\"\"Modus Tollens: If p implies q, and q is false, then p is false.\"\"\"\n",
    "    if isinstance(premise1, Implies) and premise1.rhs == Not(premise2):\n",
    "        return Not(premise1.lhs)\n",
    "    else:\n",
    "        return None\n",
    "\n",
    "def hypothetical_syllogism(premise1, premise2):\n",
    "    \"\"\"Hypothetical Syllogism: If p implies q, and q implies r, then p implies r.\"\"\"\n",
    "    if isinstance(premise1, Implies) and isinstance(premise2, Implies) and premise1.rhs == premise2.lhs:\n",
    "        return Implies(premise1.lhs, premise2.rhs)\n",
    "    else:\n",
    "        return None\n",
    "\n",
    "def disjunctive_syllogism(premise1, premise2):\n",
    "    \"\"\"Disjunctive Syllogism: If p or q is true, and p is false, then q is true.\"\"\"\n",
    "    if isinstance(premise1, Or) and Not(premise2) in premise1.args:\n",
    "        return [arg for arg in premise1.args if arg != Not(premise2)][0]\n",
    "    else:\n",
    "        return None\n",
    "\n",
    "def addition(premise):\n",
    "    \"\"\"Addition: If p is true, then p or q is true.\"\"\"\n",
    "    return Or(premise, q)\n",
    "\n",
    "def simplification(premise):\n",
    "    \"\"\"Simplification: If p and q is true, then p is true.\"\"\"\n",
    "    if isinstance(premise, And):\n",
    "        return premise.args[0]\n",
    "    else:\n",
    "        return None\n",
    "\n",
    "def resolution(premise1, premise2):\n",
    "    \"\"\"Resolution: If (p or q) and (not q or r) are true, then p or r is true.\"\"\"\n",
    "    if isinstance(premise1, Or) and isinstance(premise2, Or):\n",
    "        new_args = set(premise1.args).union(set(premise2.args))\n",
    "        if q in new_args and Not(q) in new_args:\n",
    "            new_args.remove(q)\n",
    "            new_args.remove(Not(q))\n",
    "        return Or(*new_args)\n",
    "    else:\n",
    "        return None\n",
    "\n",
    "# Example usage\n",
    "premise1 = Implies(p, q)\n",
    "premise2 = Implies(q, r)\n",
    "\n",
    "# Modus Ponens\n",
    "conclusion_mp = modus_ponens(premise1, p)\n",
    "print(\"Modus Ponens: If p implies q, and p is true, then q is true.\")\n",
    "print(\"Premise 1:\", premise1)\n",
    "print(\"Premise 2 (p is true):\", p)\n",
    "print(\"Conclusion (q is true):\", conclusion_mp)\n",
    "print()\n",
    "\n",
    "# Modus Tollens\n",
    "mt_premise1 = Implies(p, q)\n",
    "mt_premise2 = Not(q)\n",
    "\n",
    "# Hypothetical Syllogism\n",
    "hs_premise1 = Implies(p, q)\n",
    "hs_premise2 = Implies(q, r)\n",
    "\n",
    "# Disjunctive Syllogism\n",
    "ds_premise1 = Or(p, q)\n",
    "ds_premise2 = Not(p)\n",
    "\n",
    "# Addition\n",
    "add_premise1 = p\n",
    "# I just realized this line isn't needed add_conclusion1= Or(p, q)\n",
    "add_premise2 = Or(p, q)\n",
    "# I just realized this line isn't needed  add_conclusion2= Or(p, q)\n",
    "\n",
    "# Simplification\n",
    "simp_premise = And(p, q)\n",
    "# I added these conclusions to addition and this one because I felt it makes less sense without conclusions. simp_conclusion= p\n",
    "\n",
    "# Resolution\n",
    "res_premise1 = Or(p, q)\n",
    "res_premise2 = Or(Not(q), r)\n",
    "\n",
    "\n"
   ]
  },
  {
   "cell_type": "code",
   "execution_count": null,
   "metadata": {},
   "outputs": [],
   "source": [
    "from sympy.logic.boolalg import Implies\n",
    "from sympy.abc import p, q\n",
    "\n",
    "# Modus Ponens\n",
    "premise1 = Implies(p, q) #p arrow q\n",
    "premise2 = p             #p is true\n",
    "conclusion = premise1.subs(p, True) # So premise1 was Implies(p, q), after the substitution step, conclusion would be the result of evaluating \"if True then q\", that simplifies to just q.\n",
    "\n",
    "print(conclusion)\n"
   ]
  }
 ],
 "metadata": {
  "kernelspec": {
   "display_name": ".venv",
   "language": "python",
   "name": "python3"
  },
  "language_info": {
   "codemirror_mode": {
    "name": "ipython",
    "version": 3
   },
   "file_extension": ".py",
   "mimetype": "text/x-python",
   "name": "python",
   "nbconvert_exporter": "python",
   "pygments_lexer": "ipython3",
   "version": "3.11.3"
  },
  "orig_nbformat": 4
 },
 "nbformat": 4,
 "nbformat_minor": 2
}
