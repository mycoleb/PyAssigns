{
 "cells": [
  {
   "cell_type": "markdown",
   "metadata": {},
   "source": [
    "## Assignment 3 - Logical Equivalences & Normal Forms"
   ]
  },
  {
   "cell_type": "markdown",
   "metadata": {},
   "source": [
    "# Import itertools \n",
    "import itertools\n",
    "\n",
    "#This code doesn't work but this is my starter code for this.\n",
    "variables = ['P', 'Q']\n",
    "\n",
    "P=True\n",
    "Q=True\n",
    "\n",
    "# Tautology 1\n",
    "# Define the expression P OR NOT P\n",
    "def logical_expression(P):\n",
    "    return P or (not P)\n",
    "\n",
    "# Print the header of the truth table\n",
    "print(\"P | NOT P | P OR NOT P\")\n",
    "print(\"-\" * 18)\n",
    "\n",
    "# Generate and print the truth table\n",
    "for P in [True, False]:\n",
    "    not_P = not P\n",
    "    result = logical_expression(P)\n",
    "    print(f\"{P} |  {not_P}  |    {result}\")\n",
    "\n",
    "\n",
    "# Tautology 2\n",
    "\n",
    "def tautology_2(P, Q):\n",
    "    return (P or Q) or (not P)\n",
    "\n",
    "# Print the header of the truth table\n",
    "print(\"P | Q | tautology_2(P, Q)\")\n",
    "print(\"-\" * 21)\n",
    "\n",
    "# Generate and print the truth table\n",
    "for P in [True, False]:\n",
    "    for Q in [True, False]:\n",
    "        result = tautology_2(P, Q)\n",
    "        print(f\"{P} | {Q} | {result}\")\n",
    "\n",
    "\n",
    "# Tautology 3\n",
    "\n",
    "def tautology_3(P, Q):\n",
    "    return (not P or Q) or (not Q or P)\n",
    "\n",
    "# Print the header of the truth table\n",
    "print(\"P | Q | tautology_3(P, Q)\")\n",
    "print(\"-\" * 21)\n",
    "\n",
    "# Generate and print the truth table\n",
    "for P in [True, False]:\n",
    "    for Q in [True, False]:\n",
    "        result = tautology_3(P, Q)\n",
    "        print(f\"{P} | {Q} | {result}\")\n",
    "\n",
    "\n",
    "# Contradiction 1\n",
    "def contradiction_1(P):\n",
    "    return p == (not p)\n",
    "\n",
    "# Number of variables (in this case, just 'p')\n",
    "num_variables = 1\n",
    "\n",
    "# Calculate the total number of rows in the truth table\n",
    "num_rows = 2 ** num_variables\n",
    "\n",
    "# Create the header for the truth table\n",
    "header = ['p', '¬p', 'p ↔ ¬p']\n",
    "\n",
    "# Print the header\n",
    "print('\\t'.join(header))\n",
    "\n",
    "# Loop through all possible combinations of 'p'\n",
    "for i in range(num_rows):\n",
    "    p = bool(i % 2)  # Generate True/False alternatively\n",
    "    not_p = not p\n",
    "    result = biconditional(p)\n",
    "    \n",
    "    # Print the values in the current row\n",
    "    row_values = [str(p), str(not_p), str(result)]\n",
    "    print('\\t'.join(row_values))\n",
    "\n",
    "\n",
    "# Contradiction 2\n",
    "def contradiction_2(P, Q):\n",
    "    return (not Q and Q) and (not P)\n",
    "\n",
    "# Create a list of possible values for P and Q\n",
    "possible_values = [True, False]\n",
    "\n",
    "# Print the header for the truth table\n",
    "print(\"P\\tQ\\tcontradiction_2(P, Q)\")\n",
    "\n",
    "# Loop through all possible combinations of P and Q\n",
    "for P in possible_values:\n",
    "    for Q in possible_values:\n",
    "        result = contradiction_2(P, Q)\n",
    "        # Print the values in the current row\n",
    "        print(f\"{P}\\t{Q}\\t{result}\")\n",
    "\n",
    "# Contradiction 3\n",
    "\n",
    "def contradiction_3(P, Q):\n",
    "    return (P and Q) and (not P or not Q)\n",
    "\n",
    "# Create a list of possible values for P and Q\n",
    "possible_values = [True, False]\n",
    "\n",
    "# Print the header for the truth table\n",
    "print(\"P\\tQ\\tcontradiction_3(P, Q)\")\n",
    "\n",
    "# Loop through all possible combinations of P and Q\n",
    "for P in possible_values:\n",
    "    for Q in possible_values:\n",
    "        result = contradiction_3(P, Q)\n",
    "        # Print the values in the current row\n",
    "        print(f\"{P}\\t{Q}\\t{result}\")\n"
   ]
  },
  {
   "cell_type": "code",
   "execution_count": 5,
   "metadata": {},
   "outputs": [],
   "source": [
    "from sympy import *"
   ]
  },
  {
   "cell_type": "code",
   "execution_count": 1,
   "metadata": {},
   "outputs": [],
   "source": []
  },
  {
   "cell_type": "code",
   "execution_count": 2,
   "metadata": {},
   "outputs": [],
   "source": []
  },
  {
   "cell_type": "markdown",
   "metadata": {},
   "source": [
    "### 2: Logical Equivalences     \n",
    "Create a function that will test for logical equivalence when it is passed two expressions. Then test the following examples that align with the Logical Equivalence Rules:\n",
    "1. Idempotent Laws\n",
    "2. Double Negation Law\n",
    "3. Negation Laws\n",
    "4. Commutative Laws\n",
    "5. Associative Laws\n",
    "6. Distributive Laws\n",
    "7. Absorption Laws\n",
    "8. Conditional Disjunction Equivalence\n",
    "8. DeMorgans Laws\n",
    "\n",
    "My solution required using the Function Calls method of defining expressions."
   ]
  },
  {
   "cell_type": "code",
   "execution_count": 9,
   "metadata": {},
   "outputs": [],
   "source": [
    "# Function that will test for logical equivalence\n",
    "from sympy.logic.boolalg import simplify_logic, And, Or, Not\n",
    "from sympy.abc import a, b, c\n",
    "\n",
    "def test_logical_equivalence(expression1, expression2):\n",
    "    # Simplify both expressions\n",
    "    simplified_expr1 = simplify_logic(expression1)\n",
    "    simplified_expr2 = simplify_logic(expression2)\n",
    "    \n",
    "    # Check if the simplified expressions are the same\n",
    "    return simplified_expr1 == simplified_expr2"
   ]
  },
  {
   "cell_type": "code",
   "execution_count": null,
   "metadata": {},
   "outputs": [
    {
     "name": "stdout",
     "output_type": "stream",
     "text": [
      "Example 1 - Idempotent Laws:\n",
      "True\n",
      "\n",
      "Example 2 - Double Negation Law:\n",
      "True\n",
      "\n",
      "Example 3 - Negation Laws:\n",
      "True\n",
      "\n",
      "Example 4 - Commutative Laws:\n",
      "True\n",
      "\n",
      "Example 5 - Associative Laws:\n",
      "True\n",
      "\n",
      "Example 6 - Distributive Laws:\n",
      "True\n",
      "\n",
      "Example 7 - Absorption Laws:\n",
      "True\n",
      "\n",
      "Example 8 - Conditional Disjunction Equivalence:\n",
      "True\n",
      "\n",
      "Example 9 - De Morgan's Laws:\n",
      "Law 1: True\n",
      "Law 2: True\n"
     ]
    }
   ],
   "source": [
    "from sympy.logic.boolalg import simplify_logic, And, Or, Not, Implies, And, Or, Not\n",
    "from sympy.abc import a, b, c\n",
    "# Step 1: Define the symbols 'a', 'b', and 'c'\n",
    "a = True\n",
    "b = False\n",
    "c = True\n",
    "\n",
    "#a, b, c = symbols('a b c')\n",
    "\n",
    "# Example 1: Idempotent Laws\n",
    "###### define expression1 and expression2 here\n",
    "# Idempotent Laws say  \n",
    "\n",
    "\n",
    "expression1 =a or a\n",
    "expression2 = a and a\n",
    "print(\"Example 1 - Idempotent Laws:\")\n",
    "print(test_logical_equivalence(expression1, expression2))\n",
    "\n",
    "# Example 2: Double Negation Law\n",
    "###### define expression1 and expression2 here\n",
    "# The Double Negation Law says  negating a negation gives you the original value.\n",
    "\n",
    "expression1 = Not(Not(a))\n",
    "expression2 = a\n",
    "print(\"\\nExample 2 - Double Negation Law:\")\n",
    "print(test_logical_equivalence(expression1, expression2))\n",
    "\n",
    "# Example 3: Negation Laws\n",
    "###### define expression1 and expression2 here\n",
    "#if a is a variable then if a is False then negated a is true\n",
    "expression1 = And(a, Not(a))\n",
    "expression2 = False\n",
    "print(\"\\nExample 3 - Negation Laws:\")\n",
    "print(test_logical_equivalence(expression1, expression2))\n",
    "\n",
    "# Example 4: Commutative Laws\n",
    "###### define expression1 and expression2 here\n",
    "# Commutative Laws say the order of operands can't affect the result.\n",
    "expression1 = And(a, b)\n",
    "expression2 = And(b, a)\n",
    "print(\"\\nExample 4 - Commutative Laws:\")\n",
    "print(test_logical_equivalence(expression1, expression2))\n",
    "\n",
    "# Example 5: Associative Laws\n",
    "###### define expression1 and expression2 here\n",
    "# Associative Laws say  grouping operands in an associative operation can't change the result.\n",
    "#\n",
    "expression2 = And(a, And(b, c))\n",
    "expression1 = And(And(a, b), c)\n",
    "\n",
    "print(\"\\nExample 5 - Associative Laws:\")\n",
    "print(test_logical_equivalence(expression1, expression2))\n",
    "\n",
    "# Example 6: Distributive Laws\n",
    "###### define expression1 and expression2 here\n",
    "# Distributive Laws describe the relationship between  'or'and 'and' operations.\n",
    "#\n",
    "expression1 = And(a, Or(b, c))\n",
    "expression2 = Or(And(a, b), And(a, c))\n",
    "print(\"\\nExample 6 - Distributive Laws:\")\n",
    "print(test_logical_equivalence(expression1, expression2))\n",
    "\n",
    "# Example 7: Absorption Laws\n",
    "###### define expression1 and expression2 here\n",
    "# Absorption Laws say that 'a and (a or b)' is equivalent to 'a'.\n",
    "expression1 = And(a, Or(a, b))\n",
    "expression2 = a\n",
    "print(\"\\nExample 7 - Absorption Laws:\")\n",
    "print(test_logical_equivalence(expression1, expression2))\n",
    "\n",
    "# Example 8: Conditional Disjunction Equivalence\n",
    "###### define expression1 and expression2 here\n",
    "# Conditional Disjunction Equivalence relates implications and 'or' operations.\n",
    "\n",
    "expression1 = Or(Implies(a, b), Implies(Not(a), c))\n",
    "expression2 = Or(And(Not(a), b), And(a, c))\n",
    "print(\"\\nExample 8 - Conditional Disjunction Equivalence:\")\n",
    "print(test_logical_equivalence(expression1, expression2))\n",
    "\n",
    "# Example 9: De Morgan's Laws\n",
    "###### define expression1 and expression2 here\n",
    "# De Morgan's Laws describe the relationship between 'and' and 'or' operations with negations.\n",
    "\n",
    "expression1 = Not(And(a, b))\n",
    "expression2 = Or(Not(a), Not(b))\n",
    "expr3 = Not(Or(a, b))\n",
    "expr4 = And(Not(a), Not(b))\n",
    "print(\"\\nExample 9 - De Morgan's Laws:\")\n",
    "print(\"Law 1: \" + str(test_logical_equivalence(expression1, expression2)))\n",
    "print(\"Law 2: \" + str(test_logical_equivalence(expr3, expr4)))\n"
   ]
  },
  {
   "cell_type": "markdown",
   "metadata": {},
   "source": [
    "### 3: Sum of Products (Minterms) and Product of Sums (Maxterms)    \n",
    "For this exercise, you will be given the line numbers of the minterms and maxterms. Use SymPy to determine what the SOP Form is and what the POS form is.\n",
    "1. Minterms: 0, 1, 2, 3, 6, 7, 8, 9, 10, 11, 14, 15\n",
    "2. Minterms: 0, 1, 2, 3, 5, 6, 7, 8, 9, 10, 11, 12, 13, 14, 15\n",
    "3. Minterms: 0, 1, 2, 3, 8, 9, 10, 11\n",
    "4. Maxterms: 0, 1, 2, 5, 7, 10, 13, 15\n",
    "5. Maxterms: 0, 2, 3, 6, 8, 9, 12, 15"
   ]
  },
  {
   "cell_type": "code",
   "execution_count": 12,
   "metadata": {},
   "outputs": [],
   "source": [
    "# 1: Minterms: 0, 1, 2, 3, 6, 7, 8, 9, 10, 11, 14, 15\n",
    "\n"
   ]
  },
  {
   "cell_type": "code",
   "execution_count": 13,
   "metadata": {},
   "outputs": [],
   "source": [
    "# 2. Minterms: 0, 1, 2, 3, 5, 6, 7, 8, 9, 10, 11, 12, 13, 14, 15\n",
    "\n"
   ]
  },
  {
   "cell_type": "code",
   "execution_count": 14,
   "metadata": {},
   "outputs": [],
   "source": [
    "# 3. Minterms: 0, 1, 2, 3, 8, 9, 10, 11\n",
    "\n"
   ]
  },
  {
   "cell_type": "code",
   "execution_count": 15,
   "metadata": {},
   "outputs": [],
   "source": [
    "# 4. Maxterms: 0, 1, 2, 5, 7, 10, 13, 15\n",
    "\n"
   ]
  },
  {
   "cell_type": "code",
   "execution_count": 16,
   "metadata": {},
   "outputs": [],
   "source": [
    "# 5. Maxterms: 0, 2, 3, 6, 8, 9, 12, 15\n",
    "\n"
   ]
  },
  {
   "cell_type": "markdown",
   "metadata": {},
   "source": [
    "### 4: Conjective Normal Form and Disjunctive Normal Form     \n",
    "Write a script that will test is expressions are in CNF and DNF form. If it is in either, print that its already in that correct form. If it is not, convert it to the appropriate form and print out the result. Show the original expression each time. The following are the expressions:\n",
    "1. (a and b) or (b and c)\n",
    "2. (p or q) and (not p or q or r)\n",
    "3. (x and y) or (not y and z)\n"
   ]
  },
  {
   "cell_type": "code",
   "execution_count": 17,
   "metadata": {},
   "outputs": [],
   "source": [
    "# 1: (a and b) or (b and c)"
   ]
  },
  {
   "cell_type": "code",
   "execution_count": 18,
   "metadata": {},
   "outputs": [],
   "source": [
    "# 2: (p or q) and (not p or q or r)\n"
   ]
  },
  {
   "cell_type": "code",
   "execution_count": 19,
   "metadata": {},
   "outputs": [],
   "source": [
    "# 3: (x and y) or (not y and z)"
   ]
  },
  {
   "cell_type": "markdown",
   "metadata": {},
   "source": [
    "### 5: Satisfiability\n",
    "Use SymPy to test for satisfiability on these expressions and print out whether they are satisfiable or not. If it is satisfiable, show what the True and False values have to be to make it satisfiable.\n",
    "1. (a and b) or (not a and b) or (c and not b)\n",
    "2. (p or q) and (not p or q or r)\n",
    "3. (x and y) or (not y and z)"
   ]
  },
  {
   "cell_type": "code",
   "execution_count": 21,
   "metadata": {},
   "outputs": [],
   "source": [
    "# 1 (a and b) or (not a and b) or (c and not b)\n"
   ]
  },
  {
   "cell_type": "code",
   "execution_count": 22,
   "metadata": {},
   "outputs": [],
   "source": [
    "# 2: (p or q) and (not p or q or r)\n"
   ]
  },
  {
   "cell_type": "code",
   "execution_count": 23,
   "metadata": {},
   "outputs": [],
   "source": [
    "# 3: (x and y) or (not y and z)\n"
   ]
  }
 ],
 "metadata": {
  "kernelspec": {
   "display_name": ".venv",
   "language": "python",
   "name": "python3"
  },
  "language_info": {
   "codemirror_mode": {
    "name": "ipython",
    "version": 3
   },
   "file_extension": ".py",
   "mimetype": "text/x-python",
   "name": "python",
   "nbconvert_exporter": "python",
   "pygments_lexer": "ipython3",
   "version": "3.11.3"
  },
  "orig_nbformat": 4
 },
 "nbformat": 4,
 "nbformat_minor": 2
}
