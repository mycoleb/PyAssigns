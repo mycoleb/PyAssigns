{
 "cells": [
  {
   "cell_type": "markdown",
   "metadata": {},
   "source": [
    "## Assignment 5 - Quantifiers"
   ]
  },
  {
   "cell_type": "markdown",
   "metadata": {},
   "source": [
    "### 1 Universal and Existential Quantifiers"
   ]
  },
  {
   "cell_type": "code",
   "execution_count": null,
   "metadata": {},
   "outputs": [],
   "source": []
  },
  {
   "cell_type": "markdown",
   "metadata": {},
   "source": [
    "Demonstrate Universal Quantifiers and Existential Quantifiers using Python code. Create functions:    \n",
    "1. Predicate 1: tests if a number is even\n",
    "2. Predicate 2: tests if a number is positive\n",
    "3. Predicate 3: tests if a number is negative\n",
    "\n",
    "Create two domains: \n",
    "1. Domain 1: list of numbers from 1 to 11 exclusive\n",
    "2. Domain 2: list of the numbers 2, 4, 6, 8\n",
    "\n",
    "Test the following quanifiers:\n",
    "1. Test if all the integers in domain 1 are even\n",
    "2. Test if all the integers in domain 2 are even\n",
    "3. Test if any the integers in domain 1 are positive\n",
    "4. Test if any of the integers in domain 1 are negative\n",
    "\n",
    "When printing your results, be clear what Predicate is being used as well as what is being tested. Print out True or False after that. Output code is given for you to use."
   ]
  },
  {
   "cell_type": "code",
   "execution_count": 4,
   "metadata": {},
   "outputs": [
    {
     "ename": "ModuleNotFoundError",
     "evalue": "No module named 'sympy'",
     "output_type": "error",
     "traceback": [
      "\u001b[1;31m---------------------------------------------------------------------------\u001b[0m",
      "\u001b[1;31mModuleNotFoundError\u001b[0m                       Traceback (most recent call last)",
      "\u001b[1;32mc:\\Users\\mycol\\OneDrive\\Desktop\\301 newest folder North Seattle\\PyAssigns\\A5-Quantifiers.ipynb Cell 4\u001b[0m line \u001b[0;36m1\n\u001b[1;32m----> <a href='vscode-notebook-cell:/c%3A/Users/mycol/OneDrive/Desktop/301%20newest%20folder%20North%20Seattle/PyAssigns/A5-Quantifiers.ipynb#W3sZmlsZQ%3D%3D?line=0'>1</a>\u001b[0m \u001b[39mfrom\u001b[39;00m \u001b[39msympy\u001b[39;00m \u001b[39mimport\u001b[39;00m symbols, And, Or, Not, Exists, ForAll\n\u001b[0;32m      <a href='vscode-notebook-cell:/c%3A/Users/mycol/OneDrive/Desktop/301%20newest%20folder%20North%20Seattle/PyAssigns/A5-Quantifiers.ipynb#W3sZmlsZQ%3D%3D?line=1'>2</a>\u001b[0m \u001b[39mdef\u001b[39;00m \u001b[39mis_even\u001b[39m(x):\n\u001b[0;32m      <a href='vscode-notebook-cell:/c%3A/Users/mycol/OneDrive/Desktop/301%20newest%20folder%20North%20Seattle/PyAssigns/A5-Quantifiers.ipynb#W3sZmlsZQ%3D%3D?line=2'>3</a>\u001b[0m \u001b[39m    \u001b[39m\u001b[39m\"\"\"Predicate 1: Checks if x is even.\"\"\"\u001b[39;00m\n",
      "\u001b[1;31mModuleNotFoundError\u001b[0m: No module named 'sympy'"
     ]
    }
   ],
   "source": [
    "\n",
    "from sympy import symbols\n",
    "def is_even(x):\n",
    "    \"\"\"Predicate 1: Checks if x is even.\"\"\"\n",
    "    return x % 2 == 0 # For all integers this will determine if said integer \"x\" is even by returning true.\n",
    "\n",
    "\n",
    "def is_positive(x):\n",
    "    \"\"\"Predicate 2: Checks if x is positive.\"\"\"\n",
    "    return x > 0 # In the domain of all real numbers x this returns true if x is positive\n",
    "    \n",
    "\n",
    "def is_negative(x):\n",
    "    \"\"\"Predicate 3: Checks if x is negative.\"\"\"\n",
    "    return x < 0 # In the domain of all real numbers x this returns true if x is negative\n",
    "\n",
    "\n",
    "def demonstrate_quantifiers():\n",
    "    \"\"\"Demonstrates both existential and universal quantifiers using Python.\"\"\"\n",
    "    domain1 = list(range(1, 11))  # Domain 1: Numbers from 1 to 10\n",
    "    domain2 = [2, 4, 6, 8]       # Domain 2: Even numbers\n",
    "\n",
    "    # Universal Quantifier (∀x): For all x, x is even (domain 1)\n",
    "    all_even_domain1 = all(is_even(x) for x in domain1)\n",
    "    print(f'All numbers in domain 1 are even: {all_even_domain1}') \n",
    "    #logic quantifier expression for this ∀x(xmod2=0)\n",
    "    # the above two lines use all to determine if all integers in this domain are even by returning true if even is true for all\n",
    "    #output will be false ebcause this contains odd numbers\n",
    "\n",
    "    # Universal Quantifier (∀x): For all x, x is even (domain 2)\n",
    "    all_even_domain2 = all(is_even(x) for x in domain2)\n",
    "    print(f'All numbers in domain 2 are even: {all_even_domain2}')\n",
    "    #the above two lines use python to express ∀x(xmod2=0) \n",
    "    # Existential Quantifier (∃x): There exists an x such that x is positive (domain 1)\n",
    "\n",
    "    any_positive_domain1 = any(is_positive(x) for x in domain1)\n",
    "    print(f'Any number in domain 1 is positive: {any_positive_domain1}')\n",
    "    #The above code says ∃x(x>0) using python\n",
    "    #output will be true because this domain only includes positive numbers. Though if there was a single negative in this domain this would be false\n",
    "\n",
    "    # Existential Quantifier (∃x): There exists an x such that x is negative (domain 1)\n",
    "    any_negative_domain1 = any(is_negative(x) for x in domain1)\n",
    "    print(f'Any number in domain 1 is negative: {any_negative_domain1}')\n",
    "    #The above code says ∃x(x<0) using python\n",
    "    #output will be false though it would say true if it contained a single negative value\n",
    "\n",
    "demonstrate_quantifiers()\n",
    "\n",
    "#errors ModuleNotFoundError                       Traceback (most recent call last)\n",
    "#c:\\Users\\mycol\\OneDrive\\Desktop\\301 newest folder North Seattle\\PyAssigns\\A5-Quantifiers.ipynb Cell 4 line 1\n",
    "#----> <a href='vscode-notebook-cell:/c%3A/Users/mycol/OneDrive/Desktop/301%20newest%20folder%20North%20Seattle/PyAssigns/A5-Quantifiers.ipynb#W3sZmlsZQ%3D%3D?line=0'>1</a> from sympy import symbols, And, Or, Not, Exists, ForAll\n",
    "#      <a href='vscode-notebook-cell:/c%3A/Users/mycol/OneDrive/Desktop/301%20newest%20folder%20North%20Seattle/PyAssigns/A5-Quantifiers.ipynb#W3sZmlsZQ%3D%3D?line=1'>2</a> def is_even(x):\n",
    "#      <a href='vscode-notebook-cell:/c%3A/Users/mycol/OneDrive/Desktop/301%20newest%20folder%20North%20Seattle/PyAssigns/A5-Quantifiers.ipynb#W3sZmlsZQ%3D%3D?line=2'>3</a>     \"\"\"Predicate 1: Checks if x is even.\"\"\"\n",
    "\n",
    "#ModuleNotFoundError: No module named 'sympy'"
   ]
  },
  {
   "cell_type": "markdown",
   "metadata": {},
   "source": [
    "### 2 Uniqueness Quantifier"
   ]
  },
  {
   "cell_type": "markdown",
   "metadata": {},
   "source": [
    "Create a function to test if a number is a prime. Now create a domain with integers from 1 to 10 inclusive. Now determine if there is a unique prime number in the set of integers between 1 to 10. Print out the Predicate and the Uniqueness being checked for along with the True or False."
   ]
  },
  {
   "cell_type": "code",
   "execution_count": 2,
   "metadata": {},
   "outputs": [
    {
     "ename": "NameError",
     "evalue": "name 'symbols' is not defined",
     "output_type": "error",
     "traceback": [
      "\u001b[1;31m---------------------------------------------------------------------------\u001b[0m",
      "\u001b[1;31mNameError\u001b[0m                                 Traceback (most recent call last)",
      "\u001b[1;32mc:\\Users\\mycol\\OneDrive\\Desktop\\301 newest folder North Seattle\\PyAssigns\\A5-Quantifiers.ipynb Cell 7\u001b[0m line \u001b[0;36m1\n\u001b[0;32m     <a href='vscode-notebook-cell:/c%3A/Users/mycol/OneDrive/Desktop/301%20newest%20folder%20North%20Seattle/PyAssigns/A5-Quantifiers.ipynb#W6sZmlsZQ%3D%3D?line=10'>11</a>\u001b[0m     \u001b[39mreturn\u001b[39;00m \u001b[39mTrue\u001b[39;00m\n\u001b[0;32m     <a href='vscode-notebook-cell:/c%3A/Users/mycol/OneDrive/Desktop/301%20newest%20folder%20North%20Seattle/PyAssigns/A5-Quantifiers.ipynb#W6sZmlsZQ%3D%3D?line=12'>13</a>\u001b[0m \u001b[39m# Define the domain\u001b[39;00m\n\u001b[1;32m---> <a href='vscode-notebook-cell:/c%3A/Users/mycol/OneDrive/Desktop/301%20newest%20folder%20North%20Seattle/PyAssigns/A5-Quantifiers.ipynb#W6sZmlsZQ%3D%3D?line=13'>14</a>\u001b[0m x \u001b[39m=\u001b[39m symbols(\u001b[39m'\u001b[39m\u001b[39mx\u001b[39m\u001b[39m'\u001b[39m)\n\u001b[0;32m     <a href='vscode-notebook-cell:/c%3A/Users/mycol/OneDrive/Desktop/301%20newest%20folder%20North%20Seattle/PyAssigns/A5-Quantifiers.ipynb#W6sZmlsZQ%3D%3D?line=14'>15</a>\u001b[0m domain \u001b[39m=\u001b[39m \u001b[39mrange\u001b[39m(\u001b[39m1\u001b[39m, \u001b[39m11\u001b[39m)  \u001b[39m# Numbers from 1 to 10\u001b[39;00m\n\u001b[0;32m     <a href='vscode-notebook-cell:/c%3A/Users/mycol/OneDrive/Desktop/301%20newest%20folder%20North%20Seattle/PyAssigns/A5-Quantifiers.ipynb#W6sZmlsZQ%3D%3D?line=17'>18</a>\u001b[0m \u001b[39mdef\u001b[39;00m \u001b[39mdemonstrate_uniqueness_quantifier\u001b[39m():\n\u001b[0;32m     <a href='vscode-notebook-cell:/c%3A/Users/mycol/OneDrive/Desktop/301%20newest%20folder%20North%20Seattle/PyAssigns/A5-Quantifiers.ipynb#W6sZmlsZQ%3D%3D?line=18'>19</a>\u001b[0m     \u001b[39m# Uniqueness Quantifier (∃!x): There exists a unique x such that x is prime\u001b[39;00m\n",
      "\u001b[1;31mNameError\u001b[0m: name 'symbols' is not defined"
     ]
    }
   ],
   "source": [
    "from sympy import symbols\n",
    "# Demonstrate the uniqueness quantifier\n",
    "\n",
    "def is_prime(x):\n",
    "    \"\"\"Predicate: Checks if x is a prime number.\"\"\"\n",
    "    \n",
    "    if x < 2:\n",
    "        return False\n",
    "    for n in range(2, int(x**0.5) + 1):\n",
    "        if x % n == 0:\n",
    "            return False\n",
    "    return True\n",
    "\n",
    "# Define the domain\n",
    "x, y = symbols('x y')\n",
    "domain = range(1, 11)  # Numbers from 1 to 11\n",
    "\n",
    "\n",
    "def demonstrate_uniqueness_quantifier():\n",
    "    # Uniqueness Quantifier (∃!x): There exists a unique x such that x is prime\n",
    "    unique_prime = Exists(x, And(is_prime(x), Not(Exists(y, And(is_prime(y), y != x, y in domain), domain=domain))), domain=domain)\n",
    "    print(f'Is there a unique prime number in the set 1 to 10: {unique_prime}')\n",
    "    #the above two lines test if ∃x(x  ∧ y(x)). The preceding logic symbols test if x is a prime number and y(x) is the condition of the prime satisfying the unique prime definition of having \"a repeating decimal with decimal period shared with no other prime\" according to Wolfram https://mathworld.wolfram.com/UniquePrime.html#:~:text=Following%20Yates%20(1980)%2C%20a,)%20respectively.\n",
    "\n",
    "    # Printing the predicate and the uniqueness being checked\n",
    "    print(f'Predicate: is_prime(x)\\nUniqueness: Exists a unique prime number in 1 to 10')\n",
    "\n",
    "demonstrate_uniqueness_quantifier()\n",
    "\n",
    "#errors NameError                                 Traceback (most recent call last)\n",
    "#c:\\Users\\mycol\\OneDrive\\Desktop\\301 newest folder North Seattle\\PyAssigns\\A5-Quantifiers.ipynb Cell 7 line 1\n",
    "#     <a href='vscode-notebook-cell:/c%3A/Users/mycol/OneDrive/Desktop/301%20newest%20folder%20North%20Seattle/PyAssigns/A5-Quantifiers.ipynb#W6sZmlsZQ%3D%3D?line=10'>11</a>     return True\n",
    "#     <a href='vscode-notebook-cell:/c%3A/Users/mycol/OneDrive/Desktop/301%20newest%20folder%20North%20Seattle/PyAssigns/A5-Quantifiers.ipynb#W6sZmlsZQ%3D%3D?line=12'>13</a> # Define the domain\n",
    "#---> <a href='vscode-notebook-cell:/c%3A/Users/mycol/OneDrive/Desktop/301%20newest%20folder%20North%20Seattle/PyAssigns/A5-Quantifiers.ipynb#W6sZmlsZQ%3D%3D?line=13'>14</a> x = symbols('x')\n",
    "#     <a href='vscode-notebook-cell:/c%3A/Users/mycol/OneDrive/Desktop/301%20newest%20folder%20North%20Seattle/PyAssigns/A5-Quantifiers.ipynb#W6sZmlsZQ%3D%3D?line=14'>15</a> domain = range(1, 11)  # Numbers from 1 to 10\n",
    "#     <a href='vscode-notebook-cell:/c%3A/Users/mycol/OneDrive/Desktop/301%20newest%20folder%20North%20Seattle/PyAssigns/A5-Quantifiers.ipynb#W6sZmlsZQ%3D%3D?line=17'>18</a> def demonstrate_uniqueness_quantifier():\n",
    "#     <a href='vscode-notebook-cell:/c%3A/Users/mycol/OneDrive/Desktop/301%20newest%20folder%20North%20Seattle/PyAssigns/A5-Quantifiers.ipynb#W6sZmlsZQ%3D%3D?line=18'>19</a>     # Uniqueness Quantifier (∃!x): There exists a unique x such that x is prime\n",
    "\n",
    "#NameError: name 'symbols' is not defined"
   ]
  },
  {
   "cell_type": "markdown",
   "metadata": {},
   "source": [
    "### 3 Nested Quantifiers"
   ]
  },
  {
   "cell_type": "markdown",
   "metadata": {},
   "source": [
    "Demonstrate nested quantifiers. Create functions:\n",
    "1. Predicate 1: tests if a number is true\n",
    "2. Predicate 2: tests if a number is positive\n",
    "\n",
    "Create two domains:    \n",
    "x: integers 1 to 10 inclusive    \n",
    "y: integers 1 to 10 inclusive   \n",
    "\n",
    "Demonstrate that \"(∃x ∃y): There exists an even x and a positive y such that x + y = 10\"    \n",
    "Be sure to print the Predicates and quantifier being tested along with the True or False values.\n"
   ]
  },
  {
   "cell_type": "code",
   "execution_count": 4,
   "metadata": {},
   "outputs": [],
   "source": [
    "import sympy\n",
    "from sympy import symbols\n",
    "def is_even(x):\n",
    "    \"\"\"Predicate: Checks if x is even.\"\"\"\n",
    "    return x % 2 == 0\n",
    "\n",
    "\n",
    "def is_positive(y):\n",
    "    \"\"\"Predicate: Checks if y is positive.\"\"\"\n",
    "    return y > 0\n",
    "\n",
    "\n",
    "def demonstrate_nested_quantifiers():\n",
    "    \"\"\"Demonstrates nested quantifiers in Python.\"\"\"\n",
    "    found = False\n",
    "    for x in range(1, 11):  # Domain for x\n",
    "        for y in range(1, 11):  # Domain for y\n",
    "            if is_even(x) and is_positive(y) and x + y == 10:\n",
    "                found = True\n",
    "                break\n",
    "        if found:\n",
    "            break\n",
    "\n",
    "    print(f'Predicate 1: is_even(x)\\nPredicate 2: is_positive(y)')\n",
    "    print(f'Nested Quantifier (∃x ∃y): There exists an even x and a positive y such that x + y = 10: {found}')\n",
    "    #The code will output True if there exists at least one pair of numbers (x,y) within the domain 1 to 10 such that:\n",
    "        #x is even  (is_even(x)). ∃x(xmod2=0)\n",
    "        #y is positive satisfies (is_positive(y)). ∃x(x>0)\n",
    "        #∃x∃y(is_even(x)∧is_positive(y)∧(x+y=10)) Or in words \"There exists an even x and a positive y such that x + y = 10\"\n",
    "    \"\"\n",
    "demonstrate_nested_quantifiers()\n",
    "print(\"test message\")\n",
    "\n",
    "#I don't see any errors for this third section of code.\n",
    "#Not sure why this section behaves differently than all other sections in terms of running my code."
   ]
  },
  {
   "cell_type": "code",
   "execution_count": null,
   "metadata": {},
   "outputs": [],
   "source": []
  }
 ],
 "metadata": {
  "kernelspec": {
   "display_name": ".venv",
   "language": "python",
   "name": "python3"
  },
  "language_info": {
   "codemirror_mode": {
    "name": "ipython",
    "version": 3
   },
   "file_extension": ".py",
   "mimetype": "text/x-python",
   "name": "python",
   "nbconvert_exporter": "python",
   "pygments_lexer": "ipython3",
   "version": "3.11.0"
  },
  "orig_nbformat": 4
 },
 "nbformat": 4,
 "nbformat_minor": 2
}
